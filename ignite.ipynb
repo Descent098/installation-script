{
 "cells": [
  {
   "cell_type": "code",
   "execution_count": 1,
   "metadata": {},
   "outputs": [],
   "source": [
    "import spark\n",
    "%reload_ext spark"
   ]
  },
  {
   "cell_type": "code",
   "execution_count": null,
   "metadata": {},
   "outputs": [],
   "source": [
    "%%ignite\n",
    "def setup():\n",
    "    size(600, 600)\n",
    "def draw():\n",
    "    color = 'red'\n",
    "    if mouse_is_pressed:\n",
    "        color = 'blue'\n",
    "    clear()\n",
    "    fill_style(color)\n",
    "    fill_rect(mouse_x, mouse_y, 40, 40)"
   ]
  }
 ],
 "metadata": {
  "kernelspec": {
   "display_name": "Python 3",
   "language": "python",
   "name": "python3"
  },
  "language_info": {
   "codemirror_mode": {
    "name": "ipython",
    "version": 3
   },
   "file_extension": ".py",
   "mimetype": "text/x-python",
   "name": "python",
   "nbconvert_exporter": "python",
   "pygments_lexer": "ipython3",
   "version": "3.8.5"
  }
 },
 "nbformat": 4,
 "nbformat_minor": 4
}
